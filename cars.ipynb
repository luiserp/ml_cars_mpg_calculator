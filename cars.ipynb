{
 "cells": [
  {
   "cell_type": "code",
   "execution_count": 1,
   "id": "28c5b5bf",
   "metadata": {},
   "outputs": [],
   "source": [
    "import pandas as pd\n",
    "import numpy as np\n",
    "import matplotlib.pyplot as plt\n",
    "\n",
    "np.random.seed = 4"
   ]
  },
  {
   "cell_type": "markdown",
   "id": "0ae75196",
   "metadata": {},
   "source": [
    "### Introduccion\n",
    "\n",
    "Los datos pueden ser descargados en [Kaggle](https://www.kaggle.com/datasets/dhamur/cars-data) o [Github](https://corgis-edu.github.io/corgis/csv/cars/), ademas claro en el repositorio del proyecto en mi cuenta de [Github]()\n",
    "\n",
    "Este dataset muestra una serie de datos sobre autos de diferentes marcas como el *anio de fabricacion, tipo de transmision, numero de velocidades, tipo de combustible, etc*. La caracteristica a predecir es la *cantidad de millas por galon* que hacen los autos del dataset. Es un ejercicio de **aprendisaje supervisado** utilizando tecnicas de **regresion**.\n",
    "\n",
    "Los datos deben ser transformados para extraer algunas caracteristicas y eliminar las redundantes, una caracteristica importante es la *cantidad de cilindros del motor* y no viene muy bien definida"
   ]
  },
  {
   "cell_type": "code",
   "execution_count": 2,
   "id": "37e6e523",
   "metadata": {},
   "outputs": [
    {
     "data": {
      "text/html": [
       "<div>\n",
       "<style scoped>\n",
       "    .dataframe tbody tr th:only-of-type {\n",
       "        vertical-align: middle;\n",
       "    }\n",
       "\n",
       "    .dataframe tbody tr th {\n",
       "        vertical-align: top;\n",
       "    }\n",
       "\n",
       "    .dataframe thead th {\n",
       "        text-align: right;\n",
       "    }\n",
       "</style>\n",
       "<table border=\"1\" class=\"dataframe\">\n",
       "  <thead>\n",
       "    <tr style=\"text-align: right;\">\n",
       "      <th></th>\n",
       "      <th>Dimensions.Height</th>\n",
       "      <th>Dimensions.Length</th>\n",
       "      <th>Dimensions.Width</th>\n",
       "      <th>Engine Information.Driveline</th>\n",
       "      <th>Engine Information.Engine Type</th>\n",
       "      <th>Engine Information.Hybrid</th>\n",
       "      <th>Engine Information.Number of Forward Gears</th>\n",
       "      <th>Engine Information.Transmission</th>\n",
       "      <th>Fuel Information.City mpg</th>\n",
       "      <th>Fuel Information.Fuel Type</th>\n",
       "      <th>Fuel Information.Highway mpg</th>\n",
       "      <th>Identification.Classification</th>\n",
       "      <th>Identification.ID</th>\n",
       "      <th>Identification.Make</th>\n",
       "      <th>Identification.Model Year</th>\n",
       "      <th>Identification.Year</th>\n",
       "      <th>Engine Information.Engine Statistics.Horsepower</th>\n",
       "      <th>Engine Information.Engine Statistics.Torque</th>\n",
       "    </tr>\n",
       "  </thead>\n",
       "  <tbody>\n",
       "    <tr>\n",
       "      <th>0</th>\n",
       "      <td>140</td>\n",
       "      <td>143</td>\n",
       "      <td>202</td>\n",
       "      <td>All-wheel drive</td>\n",
       "      <td>Audi 3.2L 6 cylinder 250hp 236ft-lbs</td>\n",
       "      <td>True</td>\n",
       "      <td>6</td>\n",
       "      <td>6 Speed Automatic Select Shift</td>\n",
       "      <td>18</td>\n",
       "      <td>Gasoline</td>\n",
       "      <td>25</td>\n",
       "      <td>Automatic transmission</td>\n",
       "      <td>2009 Audi A3 3.2</td>\n",
       "      <td>Audi</td>\n",
       "      <td>2009 Audi A3</td>\n",
       "      <td>2009</td>\n",
       "      <td>250</td>\n",
       "      <td>236</td>\n",
       "    </tr>\n",
       "    <tr>\n",
       "      <th>1</th>\n",
       "      <td>140</td>\n",
       "      <td>143</td>\n",
       "      <td>202</td>\n",
       "      <td>Front-wheel drive</td>\n",
       "      <td>Audi 2.0L 4 cylinder 200 hp 207 ft-lbs Turbo</td>\n",
       "      <td>True</td>\n",
       "      <td>6</td>\n",
       "      <td>6 Speed Automatic Select Shift</td>\n",
       "      <td>22</td>\n",
       "      <td>Gasoline</td>\n",
       "      <td>28</td>\n",
       "      <td>Automatic transmission</td>\n",
       "      <td>2009 Audi A3 2.0 T AT</td>\n",
       "      <td>Audi</td>\n",
       "      <td>2009 Audi A3</td>\n",
       "      <td>2009</td>\n",
       "      <td>200</td>\n",
       "      <td>207</td>\n",
       "    </tr>\n",
       "    <tr>\n",
       "      <th>2</th>\n",
       "      <td>140</td>\n",
       "      <td>143</td>\n",
       "      <td>202</td>\n",
       "      <td>Front-wheel drive</td>\n",
       "      <td>Audi 2.0L 4 cylinder 200 hp 207 ft-lbs Turbo</td>\n",
       "      <td>True</td>\n",
       "      <td>6</td>\n",
       "      <td>6 Speed Manual</td>\n",
       "      <td>21</td>\n",
       "      <td>Gasoline</td>\n",
       "      <td>30</td>\n",
       "      <td>Manual transmission</td>\n",
       "      <td>2009 Audi A3 2.0 T</td>\n",
       "      <td>Audi</td>\n",
       "      <td>2009 Audi A3</td>\n",
       "      <td>2009</td>\n",
       "      <td>200</td>\n",
       "      <td>207</td>\n",
       "    </tr>\n",
       "    <tr>\n",
       "      <th>3</th>\n",
       "      <td>140</td>\n",
       "      <td>143</td>\n",
       "      <td>202</td>\n",
       "      <td>All-wheel drive</td>\n",
       "      <td>Audi 2.0L 4 cylinder 200 hp 207 ft-lbs Turbo</td>\n",
       "      <td>True</td>\n",
       "      <td>6</td>\n",
       "      <td>6 Speed Automatic Select Shift</td>\n",
       "      <td>21</td>\n",
       "      <td>Gasoline</td>\n",
       "      <td>28</td>\n",
       "      <td>Automatic transmission</td>\n",
       "      <td>2009 Audi A3 2.0 T Quattro</td>\n",
       "      <td>Audi</td>\n",
       "      <td>2009 Audi A3</td>\n",
       "      <td>2009</td>\n",
       "      <td>200</td>\n",
       "      <td>207</td>\n",
       "    </tr>\n",
       "    <tr>\n",
       "      <th>4</th>\n",
       "      <td>140</td>\n",
       "      <td>143</td>\n",
       "      <td>202</td>\n",
       "      <td>All-wheel drive</td>\n",
       "      <td>Audi 2.0L 4 cylinder 200 hp 207 ft-lbs Turbo</td>\n",
       "      <td>True</td>\n",
       "      <td>6</td>\n",
       "      <td>6 Speed Automatic Select Shift</td>\n",
       "      <td>21</td>\n",
       "      <td>Gasoline</td>\n",
       "      <td>28</td>\n",
       "      <td>Automatic transmission</td>\n",
       "      <td>2009 Audi A3 2.0 T Quattro</td>\n",
       "      <td>Audi</td>\n",
       "      <td>2009 Audi A3</td>\n",
       "      <td>2009</td>\n",
       "      <td>200</td>\n",
       "      <td>207</td>\n",
       "    </tr>\n",
       "  </tbody>\n",
       "</table>\n",
       "</div>"
      ],
      "text/plain": [
       "   Dimensions.Height  Dimensions.Length  Dimensions.Width  \\\n",
       "0                140                143               202   \n",
       "1                140                143               202   \n",
       "2                140                143               202   \n",
       "3                140                143               202   \n",
       "4                140                143               202   \n",
       "\n",
       "  Engine Information.Driveline                Engine Information.Engine Type  \\\n",
       "0              All-wheel drive          Audi 3.2L 6 cylinder 250hp 236ft-lbs   \n",
       "1            Front-wheel drive  Audi 2.0L 4 cylinder 200 hp 207 ft-lbs Turbo   \n",
       "2            Front-wheel drive  Audi 2.0L 4 cylinder 200 hp 207 ft-lbs Turbo   \n",
       "3              All-wheel drive  Audi 2.0L 4 cylinder 200 hp 207 ft-lbs Turbo   \n",
       "4              All-wheel drive  Audi 2.0L 4 cylinder 200 hp 207 ft-lbs Turbo   \n",
       "\n",
       "   Engine Information.Hybrid  Engine Information.Number of Forward Gears  \\\n",
       "0                       True                                           6   \n",
       "1                       True                                           6   \n",
       "2                       True                                           6   \n",
       "3                       True                                           6   \n",
       "4                       True                                           6   \n",
       "\n",
       "  Engine Information.Transmission  Fuel Information.City mpg  \\\n",
       "0  6 Speed Automatic Select Shift                         18   \n",
       "1  6 Speed Automatic Select Shift                         22   \n",
       "2                  6 Speed Manual                         21   \n",
       "3  6 Speed Automatic Select Shift                         21   \n",
       "4  6 Speed Automatic Select Shift                         21   \n",
       "\n",
       "  Fuel Information.Fuel Type  Fuel Information.Highway mpg  \\\n",
       "0                   Gasoline                            25   \n",
       "1                   Gasoline                            28   \n",
       "2                   Gasoline                            30   \n",
       "3                   Gasoline                            28   \n",
       "4                   Gasoline                            28   \n",
       "\n",
       "  Identification.Classification           Identification.ID  \\\n",
       "0        Automatic transmission            2009 Audi A3 3.2   \n",
       "1        Automatic transmission       2009 Audi A3 2.0 T AT   \n",
       "2           Manual transmission          2009 Audi A3 2.0 T   \n",
       "3        Automatic transmission  2009 Audi A3 2.0 T Quattro   \n",
       "4        Automatic transmission  2009 Audi A3 2.0 T Quattro   \n",
       "\n",
       "  Identification.Make Identification.Model Year  Identification.Year  \\\n",
       "0                Audi              2009 Audi A3                 2009   \n",
       "1                Audi              2009 Audi A3                 2009   \n",
       "2                Audi              2009 Audi A3                 2009   \n",
       "3                Audi              2009 Audi A3                 2009   \n",
       "4                Audi              2009 Audi A3                 2009   \n",
       "\n",
       "   Engine Information.Engine Statistics.Horsepower  \\\n",
       "0                                              250   \n",
       "1                                              200   \n",
       "2                                              200   \n",
       "3                                              200   \n",
       "4                                              200   \n",
       "\n",
       "   Engine Information.Engine Statistics.Torque  \n",
       "0                                          236  \n",
       "1                                          207  \n",
       "2                                          207  \n",
       "3                                          207  \n",
       "4                                          207  "
      ]
     },
     "execution_count": 2,
     "metadata": {},
     "output_type": "execute_result"
    }
   ],
   "source": [
    "df = pd.read_csv('datasets/cars.csv')\n",
    "df.head()"
   ]
  },
  {
   "cell_type": "markdown",
   "id": "9445026c",
   "metadata": {},
   "source": [
    "## Seleccion de datos\n",
    "\n",
    "Seleccionar las caracteristicas deseadas"
   ]
  },
  {
   "cell_type": "markdown",
   "id": "59e5ab0b",
   "metadata": {},
   "source": [
    "### Funcines auxiliares"
   ]
  },
  {
   "cell_type": "code",
   "execution_count": 3,
   "id": "4c929c9b",
   "metadata": {},
   "outputs": [],
   "source": [
    "import re\n",
    "def get_cylinders_amount(string):\n",
    "    '''Parse the string of Engine Information.Engine Type and return the amount of cylinder; return Nan if not Found'''\n",
    "    if (regex := re.search(r'\\d+ ([Cc]ylinder|Cyinder)', string)):\n",
    "        return np.int_(string[regex.start(): regex.start()+2].strip())\n",
    "    else:\n",
    "#         print(string)\n",
    "        return np.nan\n",
    "    \n",
    "#clean_cylinders(\"Audi 3.2L 6 cylinder 250hp 236ft-lbs\") # return 6.0"
   ]
  },
  {
   "cell_type": "code",
   "execution_count": 4,
   "id": "08a682fe",
   "metadata": {},
   "outputs": [],
   "source": [
    "def fill_cylinder_with_maker_mode(row):\n",
    "    '''If the row has a Nan in Engine Information.Amount of Cylinders it calculates the median of the values for all the cars of the same maker than the one of the row'''\n",
    "    if(np.isnan(row['Engine Information.Amount of Cylinders'])):\n",
    "        return df[df['Identification.Make'] == row['Identification.Make']]['Engine Information.Amount of Cylinders'].median()\n",
    "    else:\n",
    "        return row['Engine Information.Amount of Cylinders']"
   ]
  },
  {
   "cell_type": "markdown",
   "id": "f57479e4",
   "metadata": {},
   "source": [
    "### Parseo de Cilindros\n",
    "\n",
    "Uso de la funcion auxiliar `get_cylinders_amount` para setear en el dataset el numero de cilindros en vez del string completo(hay datos redundantes e inecesarios), hay algunos elementos que no poseen el numero de cilindros por lo que se seteara a Nan.\n",
    "\n",
    "Para limpiar los datos Nan se calcula la mediana de los cilindros de la marca del elemento en cuestion con `fill_cylinder_with_maker_mode`"
   ]
  },
  {
   "cell_type": "code",
   "execution_count": 5,
   "id": "f20ef872",
   "metadata": {},
   "outputs": [
    {
     "name": "stdout",
     "output_type": "stream",
     "text": [
      "Cantidad de autos por cantidad de cilindros\n"
     ]
    },
    {
     "data": {
      "text/plain": [
       "10.0      32\n",
       "12.0      80\n",
       "5.0      162\n",
       "4.0     1507\n",
       "8.0     1560\n",
       "6.0     1735\n",
       "Name: Engine Information.Amount of Cylinders, dtype: int64"
      ]
     },
     "execution_count": 5,
     "metadata": {},
     "output_type": "execute_result"
    }
   ],
   "source": [
    "df['Engine Information.Amount of Cylinders'] = df['Engine Information.Engine Type'].apply(get_cylinders_amount)\n",
    "df['Engine Information.Amount of Cylinders'] = df.apply(fill_cylinder_with_maker_mode, axis=1)\n",
    "\n",
    "print('Cantidad de autos por cantidad de cilindros')\n",
    "df['Engine Information.Amount of Cylinders'].value_counts().sort_values()"
   ]
  },
  {
   "cell_type": "markdown",
   "id": "c38a3d81",
   "metadata": {},
   "source": [
    "### Explorando Atributo categorico Diferencial"
   ]
  },
  {
   "cell_type": "code",
   "execution_count": 6,
   "id": "913ed2a5",
   "metadata": {
    "scrolled": false
   },
   "outputs": [
    {
     "name": "stdout",
     "output_type": "stream",
     "text": [
      "Cantidad de autos por tipo de clase de diferencial\n"
     ]
    },
    {
     "data": {
      "text/plain": [
       "Rear-wheel drive     1751\n",
       "Front-wheel drive    1569\n",
       "Four-wheel drive      920\n",
       "All-wheel drive       836\n",
       "Name: Engine Information.Driveline, dtype: int64"
      ]
     },
     "execution_count": 6,
     "metadata": {},
     "output_type": "execute_result"
    }
   ],
   "source": [
    "print('Cantidad de autos por tipo de clase de diferencial')\n",
    "df['Engine Information.Driveline'].value_counts()"
   ]
  },
  {
   "cell_type": "markdown",
   "id": "f745978b",
   "metadata": {},
   "source": [
    "### Explorando Atributo categorico Transmision"
   ]
  },
  {
   "cell_type": "code",
   "execution_count": 7,
   "id": "85a56281",
   "metadata": {
    "scrolled": true
   },
   "outputs": [
    {
     "name": "stdout",
     "output_type": "stream",
     "text": [
      "Cantidad de autos por tipo de clase de Transmision\n"
     ]
    },
    {
     "data": {
      "text/plain": [
       "Automatic transmission    3949\n",
       "Manual transmission       1127\n",
       "Name: Identification.Classification, dtype: int64"
      ]
     },
     "execution_count": 7,
     "metadata": {},
     "output_type": "execute_result"
    }
   ],
   "source": [
    "print('Cantidad de autos por tipo de clase de Transmision')\n",
    "df['Identification.Classification'].value_counts()"
   ]
  },
  {
   "cell_type": "markdown",
   "id": "b8718719",
   "metadata": {},
   "source": [
    "### Cuantas Marcas hay?"
   ]
  },
  {
   "cell_type": "code",
   "execution_count": 8,
   "id": "9685b9f7",
   "metadata": {},
   "outputs": [
    {
     "name": "stdout",
     "output_type": "stream",
     "text": [
      "Cantidad de marcas: 47\n"
     ]
    }
   ],
   "source": [
    "# print(df['Identification.Make'].value_counts())\n",
    "print('Cantidad de marcas:',len(df['Identification.Make'].value_counts()))"
   ]
  },
  {
   "cell_type": "markdown",
   "id": "d28c7907",
   "metadata": {},
   "source": [
    "### Tipo de combustible que utiliza"
   ]
  },
  {
   "cell_type": "code",
   "execution_count": 9,
   "id": "0ab06206",
   "metadata": {
    "scrolled": false
   },
   "outputs": [
    {
     "name": "stdout",
     "output_type": "stream",
     "text": [
      "Cantidad de autos por tipo de clase de combustible\n"
     ]
    },
    {
     "data": {
      "text/plain": [
       "Gasoline                  4591\n",
       "E85                        456\n",
       "Diesel fuel                 27\n",
       "Compressed natural gas       2\n",
       "Name: Fuel Information.Fuel Type, dtype: int64"
      ]
     },
     "execution_count": 9,
     "metadata": {},
     "output_type": "execute_result"
    }
   ],
   "source": [
    "print('Cantidad de autos por tipo de clase de combustible')\n",
    "df['Fuel Information.Fuel Type'].value_counts()"
   ]
  },
  {
   "cell_type": "markdown",
   "id": "709c4b06",
   "metadata": {},
   "source": [
    "### Tipo de motor\n",
    "Whether this is a hybrid engine or not - that is, if it uses both an internal combustion engine and an electric motor.\n",
    "\n",
    "Se convierten los datos de booleano a entero"
   ]
  },
  {
   "cell_type": "code",
   "execution_count": 10,
   "id": "97d00bd0",
   "metadata": {},
   "outputs": [],
   "source": [
    "df['Engine Information.Hybrid'].value_counts()\n",
    "df['Engine Information.Hybrid'] = df['Engine Information.Hybrid'].astype(int)"
   ]
  },
  {
   "cell_type": "markdown",
   "id": "58d3457f",
   "metadata": {},
   "source": [
    "### Seleccion de atributos con los que trabajar"
   ]
  },
  {
   "cell_type": "code",
   "execution_count": 11,
   "id": "00d45920",
   "metadata": {},
   "outputs": [],
   "source": [
    "columns = ['Dimensions.Height', 'Dimensions.Length', 'Dimensions.Width',\n",
    "       'Engine Information.Driveline',\n",
    "       'Engine Information.Amount of Cylinders',\n",
    "       'Engine Information.Hybrid',\n",
    "       'Engine Information.Number of Forward Gears',\n",
    "       'Fuel Information.City mpg',\n",
    "       'Fuel Information.Fuel Type',\n",
    "       'Identification.Classification',\n",
    "       'Identification.Make',\n",
    "       'Identification.Year',\n",
    "       'Engine Information.Engine Statistics.Horsepower',\n",
    "       'Engine Information.Engine Statistics.Torque']"
   ]
  },
  {
   "cell_type": "markdown",
   "id": "7df10dd2",
   "metadata": {},
   "source": [
    "#### El dataframe de trabajo (cars) va quedando:"
   ]
  },
  {
   "cell_type": "code",
   "execution_count": 12,
   "id": "b50dee2b",
   "metadata": {
    "scrolled": false
   },
   "outputs": [
    {
     "data": {
      "text/html": [
       "<div>\n",
       "<style scoped>\n",
       "    .dataframe tbody tr th:only-of-type {\n",
       "        vertical-align: middle;\n",
       "    }\n",
       "\n",
       "    .dataframe tbody tr th {\n",
       "        vertical-align: top;\n",
       "    }\n",
       "\n",
       "    .dataframe thead th {\n",
       "        text-align: right;\n",
       "    }\n",
       "</style>\n",
       "<table border=\"1\" class=\"dataframe\">\n",
       "  <thead>\n",
       "    <tr style=\"text-align: right;\">\n",
       "      <th></th>\n",
       "      <th>Dimensions.Height</th>\n",
       "      <th>Dimensions.Length</th>\n",
       "      <th>Dimensions.Width</th>\n",
       "      <th>Engine Information.Driveline</th>\n",
       "      <th>Engine Information.Amount of Cylinders</th>\n",
       "      <th>Engine Information.Hybrid</th>\n",
       "      <th>Engine Information.Number of Forward Gears</th>\n",
       "      <th>Fuel Information.City mpg</th>\n",
       "      <th>Fuel Information.Fuel Type</th>\n",
       "      <th>Identification.Classification</th>\n",
       "      <th>Identification.Make</th>\n",
       "      <th>Identification.Year</th>\n",
       "      <th>Engine Information.Engine Statistics.Horsepower</th>\n",
       "      <th>Engine Information.Engine Statistics.Torque</th>\n",
       "    </tr>\n",
       "  </thead>\n",
       "  <tbody>\n",
       "    <tr>\n",
       "      <th>0</th>\n",
       "      <td>140</td>\n",
       "      <td>143</td>\n",
       "      <td>202</td>\n",
       "      <td>All-wheel drive</td>\n",
       "      <td>6.0</td>\n",
       "      <td>1</td>\n",
       "      <td>6</td>\n",
       "      <td>18</td>\n",
       "      <td>Gasoline</td>\n",
       "      <td>Automatic transmission</td>\n",
       "      <td>Audi</td>\n",
       "      <td>2009</td>\n",
       "      <td>250</td>\n",
       "      <td>236</td>\n",
       "    </tr>\n",
       "    <tr>\n",
       "      <th>1</th>\n",
       "      <td>140</td>\n",
       "      <td>143</td>\n",
       "      <td>202</td>\n",
       "      <td>Front-wheel drive</td>\n",
       "      <td>4.0</td>\n",
       "      <td>1</td>\n",
       "      <td>6</td>\n",
       "      <td>22</td>\n",
       "      <td>Gasoline</td>\n",
       "      <td>Automatic transmission</td>\n",
       "      <td>Audi</td>\n",
       "      <td>2009</td>\n",
       "      <td>200</td>\n",
       "      <td>207</td>\n",
       "    </tr>\n",
       "    <tr>\n",
       "      <th>2</th>\n",
       "      <td>140</td>\n",
       "      <td>143</td>\n",
       "      <td>202</td>\n",
       "      <td>Front-wheel drive</td>\n",
       "      <td>4.0</td>\n",
       "      <td>1</td>\n",
       "      <td>6</td>\n",
       "      <td>21</td>\n",
       "      <td>Gasoline</td>\n",
       "      <td>Manual transmission</td>\n",
       "      <td>Audi</td>\n",
       "      <td>2009</td>\n",
       "      <td>200</td>\n",
       "      <td>207</td>\n",
       "    </tr>\n",
       "    <tr>\n",
       "      <th>3</th>\n",
       "      <td>140</td>\n",
       "      <td>143</td>\n",
       "      <td>202</td>\n",
       "      <td>All-wheel drive</td>\n",
       "      <td>4.0</td>\n",
       "      <td>1</td>\n",
       "      <td>6</td>\n",
       "      <td>21</td>\n",
       "      <td>Gasoline</td>\n",
       "      <td>Automatic transmission</td>\n",
       "      <td>Audi</td>\n",
       "      <td>2009</td>\n",
       "      <td>200</td>\n",
       "      <td>207</td>\n",
       "    </tr>\n",
       "    <tr>\n",
       "      <th>4</th>\n",
       "      <td>140</td>\n",
       "      <td>143</td>\n",
       "      <td>202</td>\n",
       "      <td>All-wheel drive</td>\n",
       "      <td>4.0</td>\n",
       "      <td>1</td>\n",
       "      <td>6</td>\n",
       "      <td>21</td>\n",
       "      <td>Gasoline</td>\n",
       "      <td>Automatic transmission</td>\n",
       "      <td>Audi</td>\n",
       "      <td>2009</td>\n",
       "      <td>200</td>\n",
       "      <td>207</td>\n",
       "    </tr>\n",
       "  </tbody>\n",
       "</table>\n",
       "</div>"
      ],
      "text/plain": [
       "   Dimensions.Height  Dimensions.Length  Dimensions.Width  \\\n",
       "0                140                143               202   \n",
       "1                140                143               202   \n",
       "2                140                143               202   \n",
       "3                140                143               202   \n",
       "4                140                143               202   \n",
       "\n",
       "  Engine Information.Driveline  Engine Information.Amount of Cylinders  \\\n",
       "0              All-wheel drive                                     6.0   \n",
       "1            Front-wheel drive                                     4.0   \n",
       "2            Front-wheel drive                                     4.0   \n",
       "3              All-wheel drive                                     4.0   \n",
       "4              All-wheel drive                                     4.0   \n",
       "\n",
       "   Engine Information.Hybrid  Engine Information.Number of Forward Gears  \\\n",
       "0                          1                                           6   \n",
       "1                          1                                           6   \n",
       "2                          1                                           6   \n",
       "3                          1                                           6   \n",
       "4                          1                                           6   \n",
       "\n",
       "   Fuel Information.City mpg Fuel Information.Fuel Type  \\\n",
       "0                         18                   Gasoline   \n",
       "1                         22                   Gasoline   \n",
       "2                         21                   Gasoline   \n",
       "3                         21                   Gasoline   \n",
       "4                         21                   Gasoline   \n",
       "\n",
       "  Identification.Classification Identification.Make  Identification.Year  \\\n",
       "0        Automatic transmission                Audi                 2009   \n",
       "1        Automatic transmission                Audi                 2009   \n",
       "2           Manual transmission                Audi                 2009   \n",
       "3        Automatic transmission                Audi                 2009   \n",
       "4        Automatic transmission                Audi                 2009   \n",
       "\n",
       "   Engine Information.Engine Statistics.Horsepower  \\\n",
       "0                                              250   \n",
       "1                                              200   \n",
       "2                                              200   \n",
       "3                                              200   \n",
       "4                                              200   \n",
       "\n",
       "   Engine Information.Engine Statistics.Torque  \n",
       "0                                          236  \n",
       "1                                          207  \n",
       "2                                          207  \n",
       "3                                          207  \n",
       "4                                          207  "
      ]
     },
     "execution_count": 12,
     "metadata": {},
     "output_type": "execute_result"
    }
   ],
   "source": [
    "cars = df[columns]\n",
    "cars.head()"
   ]
  },
  {
   "cell_type": "code",
   "execution_count": 13,
   "id": "7c0cc721",
   "metadata": {},
   "outputs": [
    {
     "name": "stdout",
     "output_type": "stream",
     "text": [
      "<class 'pandas.core.frame.DataFrame'>\n",
      "RangeIndex: 5076 entries, 0 to 5075\n",
      "Data columns (total 14 columns):\n",
      " #   Column                                           Non-Null Count  Dtype  \n",
      "---  ------                                           --------------  -----  \n",
      " 0   Dimensions.Height                                5076 non-null   int64  \n",
      " 1   Dimensions.Length                                5076 non-null   int64  \n",
      " 2   Dimensions.Width                                 5076 non-null   int64  \n",
      " 3   Engine Information.Driveline                     5076 non-null   object \n",
      " 4   Engine Information.Amount of Cylinders           5076 non-null   float64\n",
      " 5   Engine Information.Hybrid                        5076 non-null   int32  \n",
      " 6   Engine Information.Number of Forward Gears       5076 non-null   int64  \n",
      " 7   Fuel Information.City mpg                        5076 non-null   int64  \n",
      " 8   Fuel Information.Fuel Type                       5076 non-null   object \n",
      " 9   Identification.Classification                    5076 non-null   object \n",
      " 10  Identification.Make                              5076 non-null   object \n",
      " 11  Identification.Year                              5076 non-null   int64  \n",
      " 12  Engine Information.Engine Statistics.Horsepower  5076 non-null   int64  \n",
      " 13  Engine Information.Engine Statistics.Torque      5076 non-null   int64  \n",
      "dtypes: float64(1), int32(1), int64(8), object(4)\n",
      "memory usage: 535.5+ KB\n"
     ]
    }
   ],
   "source": [
    "cars.info()"
   ]
  },
  {
   "cell_type": "code",
   "execution_count": 14,
   "id": "74102653",
   "metadata": {},
   "outputs": [
    {
     "data": {
      "text/html": [
       "<div>\n",
       "<style scoped>\n",
       "    .dataframe tbody tr th:only-of-type {\n",
       "        vertical-align: middle;\n",
       "    }\n",
       "\n",
       "    .dataframe tbody tr th {\n",
       "        vertical-align: top;\n",
       "    }\n",
       "\n",
       "    .dataframe thead th {\n",
       "        text-align: right;\n",
       "    }\n",
       "</style>\n",
       "<table border=\"1\" class=\"dataframe\">\n",
       "  <thead>\n",
       "    <tr style=\"text-align: right;\">\n",
       "      <th></th>\n",
       "      <th>Dimensions.Height</th>\n",
       "      <th>Dimensions.Length</th>\n",
       "      <th>Dimensions.Width</th>\n",
       "      <th>Engine Information.Amount of Cylinders</th>\n",
       "      <th>Engine Information.Hybrid</th>\n",
       "      <th>Engine Information.Number of Forward Gears</th>\n",
       "      <th>Fuel Information.City mpg</th>\n",
       "      <th>Identification.Year</th>\n",
       "      <th>Engine Information.Engine Statistics.Horsepower</th>\n",
       "      <th>Engine Information.Engine Statistics.Torque</th>\n",
       "    </tr>\n",
       "  </thead>\n",
       "  <tbody>\n",
       "    <tr>\n",
       "      <th>count</th>\n",
       "      <td>5076.000000</td>\n",
       "      <td>5076.000000</td>\n",
       "      <td>5076.000000</td>\n",
       "      <td>5076.000000</td>\n",
       "      <td>5076.0</td>\n",
       "      <td>5076.000000</td>\n",
       "      <td>5076.000000</td>\n",
       "      <td>5076.000000</td>\n",
       "      <td>5076.000000</td>\n",
       "      <td>5076.000000</td>\n",
       "    </tr>\n",
       "    <tr>\n",
       "      <th>mean</th>\n",
       "      <td>145.632191</td>\n",
       "      <td>127.825847</td>\n",
       "      <td>144.012411</td>\n",
       "      <td>6.108747</td>\n",
       "      <td>1.0</td>\n",
       "      <td>5.519110</td>\n",
       "      <td>17.275808</td>\n",
       "      <td>2010.867612</td>\n",
       "      <td>270.499409</td>\n",
       "      <td>272.707250</td>\n",
       "    </tr>\n",
       "    <tr>\n",
       "      <th>std</th>\n",
       "      <td>62.125026</td>\n",
       "      <td>77.358295</td>\n",
       "      <td>79.925899</td>\n",
       "      <td>1.762330</td>\n",
       "      <td>0.0</td>\n",
       "      <td>0.845637</td>\n",
       "      <td>4.479485</td>\n",
       "      <td>0.782951</td>\n",
       "      <td>95.293537</td>\n",
       "      <td>100.123328</td>\n",
       "    </tr>\n",
       "    <tr>\n",
       "      <th>min</th>\n",
       "      <td>1.000000</td>\n",
       "      <td>2.000000</td>\n",
       "      <td>1.000000</td>\n",
       "      <td>4.000000</td>\n",
       "      <td>1.0</td>\n",
       "      <td>4.000000</td>\n",
       "      <td>8.000000</td>\n",
       "      <td>2009.000000</td>\n",
       "      <td>100.000000</td>\n",
       "      <td>98.000000</td>\n",
       "    </tr>\n",
       "    <tr>\n",
       "      <th>25%</th>\n",
       "      <td>104.000000</td>\n",
       "      <td>60.000000</td>\n",
       "      <td>62.000000</td>\n",
       "      <td>4.000000</td>\n",
       "      <td>1.0</td>\n",
       "      <td>5.000000</td>\n",
       "      <td>14.000000</td>\n",
       "      <td>2010.000000</td>\n",
       "      <td>190.000000</td>\n",
       "      <td>187.000000</td>\n",
       "    </tr>\n",
       "    <tr>\n",
       "      <th>50%</th>\n",
       "      <td>152.000000</td>\n",
       "      <td>128.000000</td>\n",
       "      <td>158.000000</td>\n",
       "      <td>6.000000</td>\n",
       "      <td>1.0</td>\n",
       "      <td>6.000000</td>\n",
       "      <td>17.000000</td>\n",
       "      <td>2011.000000</td>\n",
       "      <td>266.000000</td>\n",
       "      <td>260.000000</td>\n",
       "    </tr>\n",
       "    <tr>\n",
       "      <th>75%</th>\n",
       "      <td>193.000000</td>\n",
       "      <td>198.000000</td>\n",
       "      <td>219.000000</td>\n",
       "      <td>8.000000</td>\n",
       "      <td>1.0</td>\n",
       "      <td>6.000000</td>\n",
       "      <td>20.000000</td>\n",
       "      <td>2011.000000</td>\n",
       "      <td>317.000000</td>\n",
       "      <td>335.000000</td>\n",
       "    </tr>\n",
       "    <tr>\n",
       "      <th>max</th>\n",
       "      <td>255.000000</td>\n",
       "      <td>255.000000</td>\n",
       "      <td>254.000000</td>\n",
       "      <td>12.000000</td>\n",
       "      <td>1.0</td>\n",
       "      <td>8.000000</td>\n",
       "      <td>38.000000</td>\n",
       "      <td>2012.000000</td>\n",
       "      <td>638.000000</td>\n",
       "      <td>774.000000</td>\n",
       "    </tr>\n",
       "  </tbody>\n",
       "</table>\n",
       "</div>"
      ],
      "text/plain": [
       "       Dimensions.Height  Dimensions.Length  Dimensions.Width  \\\n",
       "count        5076.000000        5076.000000       5076.000000   \n",
       "mean          145.632191         127.825847        144.012411   \n",
       "std            62.125026          77.358295         79.925899   \n",
       "min             1.000000           2.000000          1.000000   \n",
       "25%           104.000000          60.000000         62.000000   \n",
       "50%           152.000000         128.000000        158.000000   \n",
       "75%           193.000000         198.000000        219.000000   \n",
       "max           255.000000         255.000000        254.000000   \n",
       "\n",
       "       Engine Information.Amount of Cylinders  Engine Information.Hybrid  \\\n",
       "count                             5076.000000                     5076.0   \n",
       "mean                                 6.108747                        1.0   \n",
       "std                                  1.762330                        0.0   \n",
       "min                                  4.000000                        1.0   \n",
       "25%                                  4.000000                        1.0   \n",
       "50%                                  6.000000                        1.0   \n",
       "75%                                  8.000000                        1.0   \n",
       "max                                 12.000000                        1.0   \n",
       "\n",
       "       Engine Information.Number of Forward Gears  Fuel Information.City mpg  \\\n",
       "count                                 5076.000000                5076.000000   \n",
       "mean                                     5.519110                  17.275808   \n",
       "std                                      0.845637                   4.479485   \n",
       "min                                      4.000000                   8.000000   \n",
       "25%                                      5.000000                  14.000000   \n",
       "50%                                      6.000000                  17.000000   \n",
       "75%                                      6.000000                  20.000000   \n",
       "max                                      8.000000                  38.000000   \n",
       "\n",
       "       Identification.Year  Engine Information.Engine Statistics.Horsepower  \\\n",
       "count          5076.000000                                      5076.000000   \n",
       "mean           2010.867612                                       270.499409   \n",
       "std               0.782951                                        95.293537   \n",
       "min            2009.000000                                       100.000000   \n",
       "25%            2010.000000                                       190.000000   \n",
       "50%            2011.000000                                       266.000000   \n",
       "75%            2011.000000                                       317.000000   \n",
       "max            2012.000000                                       638.000000   \n",
       "\n",
       "       Engine Information.Engine Statistics.Torque  \n",
       "count                                  5076.000000  \n",
       "mean                                    272.707250  \n",
       "std                                     100.123328  \n",
       "min                                      98.000000  \n",
       "25%                                     187.000000  \n",
       "50%                                     260.000000  \n",
       "75%                                     335.000000  \n",
       "max                                     774.000000  "
      ]
     },
     "execution_count": 14,
     "metadata": {},
     "output_type": "execute_result"
    }
   ],
   "source": [
    "cars.describe()"
   ]
  },
  {
   "cell_type": "code",
   "execution_count": 15,
   "id": "bbde92b3",
   "metadata": {},
   "outputs": [
    {
     "data": {
      "text/plain": [
       "0"
      ]
     },
     "execution_count": 15,
     "metadata": {},
     "output_type": "execute_result"
    }
   ],
   "source": [
    "cars.isnull().sum().sum()"
   ]
  },
  {
   "cell_type": "code",
   "execution_count": 16,
   "id": "5a6ae66c",
   "metadata": {},
   "outputs": [
    {
     "data": {
      "image/png": "[encoded data removed]",
      "text/plain": [
       "<Figure size 1440x1080 with 12 Axes>"
      ]
     },
     "metadata": {
      "needs_background": "light"
     },
     "output_type": "display_data"
    }
   ],
   "source": [
    "cars.hist(figsize=(20, 15))\n",
    "plt.show()"
   ]
  },
  {
   "cell_type": "markdown",
   "id": "efc56adf",
   "metadata": {},
   "source": [
    "### Separar datos de entrenamiento y pruebas\n",
    "\n",
    "Una caracteristica importante es la cantidad de cilindros, por lo que se desea que la seleccion de set de entrenamiento y prueba sean homogeneos, para esto se usa `StratifiedShuffleSplit`"
   ]
  },
  {
   "cell_type": "code",
   "execution_count": 17,
   "id": "b9d880c5",
   "metadata": {
    "scrolled": true
   },
   "outputs": [
    {
     "name": "stdout",
     "output_type": "stream",
     "text": [
      "Homogeneidad en los datos (CantidadCilindros/Porciento): \n"
     ]
    },
    {
     "data": {
      "text/plain": [
       "6.0     34.187192\n",
       "8.0     30.738916\n",
       "4.0     29.679803\n",
       "5.0      3.177340\n",
       "12.0     1.576355\n",
       "10.0     0.640394\n",
       "Name: Engine Information.Amount of Cylinders, dtype: float64"
      ]
     },
     "execution_count": 17,
     "metadata": {},
     "output_type": "execute_result"
    }
   ],
   "source": [
    "from sklearn.model_selection import StratifiedShuffleSplit\n",
    "\n",
    "split = StratifiedShuffleSplit( n_splits=1, test_size=0.2, random_state=42)\n",
    "\n",
    "for train_index, test_index in split. split( cars, cars[\"Engine Information.Amount of Cylinders\" ] ) :\n",
    "    strat_train_set = cars.loc[train_index]\n",
    "    strat_test_set = cars.loc[test_index]\n",
    "    \n",
    "print('Homogeneidad en los datos (CantidadCilindros/Porciento): ')\n",
    "# strat_test_set[\"Engine Information.Amount of Cylinders\"].value_counts( )/len(strat_test_set) * 100\n",
    "strat_train_set[\"Engine Information.Amount of Cylinders\"].value_counts( )/len(strat_train_set) * 100"
   ]
  },
  {
   "cell_type": "markdown",
   "id": "f33ac690",
   "metadata": {},
   "source": [
    "#### Correlacion existente entre el cosumo de combustible con los demas atributos"
   ]
  },
  {
   "cell_type": "code",
   "execution_count": 18,
   "id": "74d538e2",
   "metadata": {},
   "outputs": [
    {
     "data": {
      "text/plain": [
       "Fuel Information.City mpg                          1.000000\n",
       "Dimensions.Height                                  0.248408\n",
       "Identification.Year                                0.084535\n",
       "Dimensions.Length                                 -0.022903\n",
       "Engine Information.Number of Forward Gears        -0.042042\n",
       "Dimensions.Width                                  -0.133779\n",
       "Engine Information.Engine Statistics.Horsepower   -0.701149\n",
       "Engine Information.Engine Statistics.Torque       -0.753900\n",
       "Engine Information.Amount of Cylinders            -0.790185\n",
       "Engine Information.Hybrid                               NaN\n",
       "Name: Fuel Information.City mpg, dtype: float64"
      ]
     },
     "execution_count": 18,
     "metadata": {},
     "output_type": "execute_result"
    }
   ],
   "source": [
    "cars = strat_train_set.copy()\n",
    "cars.corr()['Fuel Information.City mpg'].sort_values(ascending=False)"
   ]
  },
  {
   "cell_type": "markdown",
   "id": "223422fa",
   "metadata": {},
   "source": [
    "#### Visualizacion de las correlaciones mas significativas"
   ]
  },
  {
   "cell_type": "code",
   "execution_count": 19,
   "id": "b257ac87",
   "metadata": {},
   "outputs": [
    {
     "data": {
      "image/png": "[encoded data removed]",
      "text/plain": [
       "<Figure size 1440x1080 with 16 Axes>"
      ]
     },
     "metadata": {
      "needs_background": "light"
     },
     "output_type": "display_data"
    }
   ],
   "source": [
    "from pandas.plotting import scatter_matrix\n",
    "atributos = ['Engine Information.Engine Statistics.Horsepower',\n",
    "             'Engine Information.Engine Statistics.Torque',\n",
    "             'Engine Information.Amount of Cylinders',\n",
    "             'Fuel Information.City mpg']\n",
    "scatter_matrix(cars[atributos], figsize=(20,15))\n",
    "plt.show()"
   ]
  },
  {
   "cell_type": "markdown",
   "id": "8b146b02",
   "metadata": {},
   "source": [
    "#### Separar los caracteristicas del atributo objetivo e identificar los datos categoricos y los numericos para la posterior transformacion. "
   ]
  },
  {
   "cell_type": "code",
   "execution_count": 20,
   "id": "8cd6109c",
   "metadata": {},
   "outputs": [],
   "source": [
    "cars_labels = cars['Fuel Information.City mpg'].copy()\n",
    "cars.drop('Fuel Information.City mpg', axis=1, inplace=True)\n",
    "\n",
    "cars_categorical = ['Engine Information.Driveline', 'Fuel Information.Fuel Type', 'Identification.Classification', 'Identification.Make']\n",
    "cars_numerical = ['Dimensions.Height', 'Dimensions.Length', 'Dimensions.Width', 'Engine Information.Amount of Cylinders', 'Engine Information.Hybrid', 'Engine Information.Number of Forward Gears', 'Identification.Year', 'Engine Information.Engine Statistics.Horsepower', 'Engine Information.Engine Statistics.Torque']"
   ]
  },
  {
   "cell_type": "code",
   "execution_count": 21,
   "id": "91eb83cd",
   "metadata": {},
   "outputs": [],
   "source": [
    "from sklearn.compose import ColumnTransformer\n",
    "from sklearn.preprocessing import StandardScaler\n",
    "from sklearn.preprocessing import OneHotEncoder\n",
    "\n",
    "full_pipeline = ColumnTransformer( [\n",
    "        ( \"num\" , StandardScaler(), cars_numerical) ,\n",
    "        ( \"cat\" , OneHotEncoder() , cars_categorical) ,\n",
    "    ])\n",
    "\n",
    "cars_prepared = full_pipeline.fit_transform(cars)"
   ]
  },
  {
   "cell_type": "markdown",
   "id": "ef368025",
   "metadata": {},
   "source": [
    "#### Los datos son transformados a la forma:"
   ]
  },
  {
   "cell_type": "code",
   "execution_count": 22,
   "id": "ee071888",
   "metadata": {},
   "outputs": [
    {
     "data": {
      "text/html": [
       "<div>\n",
       "<style scoped>\n",
       "    .dataframe tbody tr th:only-of-type {\n",
       "        vertical-align: middle;\n",
       "    }\n",
       "\n",
       "    .dataframe tbody tr th {\n",
       "        vertical-align: top;\n",
       "    }\n",
       "\n",
       "    .dataframe thead th {\n",
       "        text-align: right;\n",
       "    }\n",
       "</style>\n",
       "<table border=\"1\" class=\"dataframe\">\n",
       "  <thead>\n",
       "    <tr style=\"text-align: right;\">\n",
       "      <th></th>\n",
       "      <th>num__Dimensions.Height</th>\n",
       "      <th>num__Dimensions.Length</th>\n",
       "      <th>num__Dimensions.Width</th>\n",
       "      <th>num__Engine Information.Amount of Cylinders</th>\n",
       "      <th>num__Engine Information.Hybrid</th>\n",
       "      <th>num__Engine Information.Number of Forward Gears</th>\n",
       "      <th>num__Identification.Year</th>\n",
       "      <th>num__Engine Information.Engine Statistics.Horsepower</th>\n",
       "      <th>num__Engine Information.Engine Statistics.Torque</th>\n",
       "      <th>cat__Engine Information.Driveline_All-wheel drive</th>\n",
       "      <th>...</th>\n",
       "      <th>cat__Identification.Make_Nissan</th>\n",
       "      <th>cat__Identification.Make_Porsche</th>\n",
       "      <th>cat__Identification.Make_Rolls-Royce</th>\n",
       "      <th>cat__Identification.Make_Saab</th>\n",
       "      <th>cat__Identification.Make_Scion</th>\n",
       "      <th>cat__Identification.Make_Subaru</th>\n",
       "      <th>cat__Identification.Make_Suzuki</th>\n",
       "      <th>cat__Identification.Make_Toyota</th>\n",
       "      <th>cat__Identification.Make_Volkswagen</th>\n",
       "      <th>cat__Identification.Make_Volvo</th>\n",
       "    </tr>\n",
       "  </thead>\n",
       "  <tbody>\n",
       "    <tr>\n",
       "      <th>0</th>\n",
       "      <td>-0.250918</td>\n",
       "      <td>0.714579</td>\n",
       "      <td>1.005492</td>\n",
       "      <td>1.072555</td>\n",
       "      <td>0.0</td>\n",
       "      <td>-0.617813</td>\n",
       "      <td>0.163267</td>\n",
       "      <td>1.237584</td>\n",
       "      <td>1.333177</td>\n",
       "      <td>0.0</td>\n",
       "      <td>...</td>\n",
       "      <td>0.0</td>\n",
       "      <td>0.0</td>\n",
       "      <td>0.0</td>\n",
       "      <td>0.0</td>\n",
       "      <td>0.0</td>\n",
       "      <td>0.0</td>\n",
       "      <td>0.0</td>\n",
       "      <td>0.0</td>\n",
       "      <td>0.0</td>\n",
       "      <td>0.0</td>\n",
       "    </tr>\n",
       "    <tr>\n",
       "      <th>1</th>\n",
       "      <td>0.648279</td>\n",
       "      <td>-1.381948</td>\n",
       "      <td>-1.283030</td>\n",
       "      <td>-0.062187</td>\n",
       "      <td>0.0</td>\n",
       "      <td>0.564799</td>\n",
       "      <td>1.435559</td>\n",
       "      <td>0.125505</td>\n",
       "      <td>-0.126537</td>\n",
       "      <td>1.0</td>\n",
       "      <td>...</td>\n",
       "      <td>0.0</td>\n",
       "      <td>0.0</td>\n",
       "      <td>0.0</td>\n",
       "      <td>0.0</td>\n",
       "      <td>0.0</td>\n",
       "      <td>0.0</td>\n",
       "      <td>0.0</td>\n",
       "      <td>0.0</td>\n",
       "      <td>0.0</td>\n",
       "      <td>0.0</td>\n",
       "    </tr>\n",
       "    <tr>\n",
       "      <th>2</th>\n",
       "      <td>-0.170632</td>\n",
       "      <td>1.607544</td>\n",
       "      <td>0.855425</td>\n",
       "      <td>-0.062187</td>\n",
       "      <td>0.0</td>\n",
       "      <td>0.564799</td>\n",
       "      <td>0.163267</td>\n",
       "      <td>0.977753</td>\n",
       "      <td>1.462268</td>\n",
       "      <td>0.0</td>\n",
       "      <td>...</td>\n",
       "      <td>0.0</td>\n",
       "      <td>0.0</td>\n",
       "      <td>0.0</td>\n",
       "      <td>0.0</td>\n",
       "      <td>0.0</td>\n",
       "      <td>0.0</td>\n",
       "      <td>0.0</td>\n",
       "      <td>0.0</td>\n",
       "      <td>0.0</td>\n",
       "      <td>0.0</td>\n",
       "    </tr>\n",
       "    <tr>\n",
       "      <th>3</th>\n",
       "      <td>-0.588116</td>\n",
       "      <td>-0.980760</td>\n",
       "      <td>-0.807817</td>\n",
       "      <td>1.072555</td>\n",
       "      <td>0.0</td>\n",
       "      <td>1.747412</td>\n",
       "      <td>-1.109025</td>\n",
       "      <td>2.453596</td>\n",
       "      <td>1.909119</td>\n",
       "      <td>0.0</td>\n",
       "      <td>...</td>\n",
       "      <td>0.0</td>\n",
       "      <td>0.0</td>\n",
       "      <td>0.0</td>\n",
       "      <td>0.0</td>\n",
       "      <td>0.0</td>\n",
       "      <td>0.0</td>\n",
       "      <td>0.0</td>\n",
       "      <td>0.0</td>\n",
       "      <td>0.0</td>\n",
       "      <td>0.0</td>\n",
       "    </tr>\n",
       "    <tr>\n",
       "      <th>4</th>\n",
       "      <td>-0.026118</td>\n",
       "      <td>0.520456</td>\n",
       "      <td>-0.732784</td>\n",
       "      <td>1.072555</td>\n",
       "      <td>0.0</td>\n",
       "      <td>-0.617813</td>\n",
       "      <td>-1.109025</td>\n",
       "      <td>0.458090</td>\n",
       "      <td>0.518915</td>\n",
       "      <td>0.0</td>\n",
       "      <td>...</td>\n",
       "      <td>0.0</td>\n",
       "      <td>0.0</td>\n",
       "      <td>0.0</td>\n",
       "      <td>0.0</td>\n",
       "      <td>0.0</td>\n",
       "      <td>0.0</td>\n",
       "      <td>0.0</td>\n",
       "      <td>0.0</td>\n",
       "      <td>0.0</td>\n",
       "      <td>0.0</td>\n",
       "    </tr>\n",
       "  </tbody>\n",
       "</table>\n",
       "<p>5 rows × 66 columns</p>\n",
       "</div>"
      ],
      "text/plain": [
       "   num__Dimensions.Height  num__Dimensions.Length  num__Dimensions.Width  \\\n",
       "0               -0.250918                0.714579               1.005492   \n",
       "1                0.648279               -1.381948              -1.283030   \n",
       "2               -0.170632                1.607544               0.855425   \n",
       "3               -0.588116               -0.980760              -0.807817   \n",
       "4               -0.026118                0.520456              -0.732784   \n",
       "\n",
       "   num__Engine Information.Amount of Cylinders  \\\n",
       "0                                     1.072555   \n",
       "1                                    -0.062187   \n",
       "2                                    -0.062187   \n",
       "3                                     1.072555   \n",
       "4                                     1.072555   \n",
       "\n",
       "   num__Engine Information.Hybrid  \\\n",
       "0                             0.0   \n",
       "1                             0.0   \n",
       "2                             0.0   \n",
       "3                             0.0   \n",
       "4                             0.0   \n",
       "\n",
       "   num__Engine Information.Number of Forward Gears  num__Identification.Year  \\\n",
       "0                                        -0.617813                  0.163267   \n",
       "1                                         0.564799                  1.435559   \n",
       "2                                         0.564799                  0.163267   \n",
       "3                                         1.747412                 -1.109025   \n",
       "4                                        -0.617813                 -1.109025   \n",
       "\n",
       "   num__Engine Information.Engine Statistics.Horsepower  \\\n",
       "0                                           1.237584      \n",
       "1                                           0.125505      \n",
       "2                                           0.977753      \n",
       "3                                           2.453596      \n",
       "4                                           0.458090      \n",
       "\n",
       "   num__Engine Information.Engine Statistics.Torque  \\\n",
       "0                                          1.333177   \n",
       "1                                         -0.126537   \n",
       "2                                          1.462268   \n",
       "3                                          1.909119   \n",
       "4                                          0.518915   \n",
       "\n",
       "   cat__Engine Information.Driveline_All-wheel drive  ...  \\\n",
       "0                                                0.0  ...   \n",
       "1                                                1.0  ...   \n",
       "2                                                0.0  ...   \n",
       "3                                                0.0  ...   \n",
       "4                                                0.0  ...   \n",
       "\n",
       "   cat__Identification.Make_Nissan  cat__Identification.Make_Porsche  \\\n",
       "0                              0.0                               0.0   \n",
       "1                              0.0                               0.0   \n",
       "2                              0.0                               0.0   \n",
       "3                              0.0                               0.0   \n",
       "4                              0.0                               0.0   \n",
       "\n",
       "   cat__Identification.Make_Rolls-Royce  cat__Identification.Make_Saab  \\\n",
       "0                                   0.0                            0.0   \n",
       "1                                   0.0                            0.0   \n",
       "2                                   0.0                            0.0   \n",
       "3                                   0.0                            0.0   \n",
       "4                                   0.0                            0.0   \n",
       "\n",
       "   cat__Identification.Make_Scion  cat__Identification.Make_Subaru  \\\n",
       "0                             0.0                              0.0   \n",
       "1                             0.0                              0.0   \n",
       "2                             0.0                              0.0   \n",
       "3                             0.0                              0.0   \n",
       "4                             0.0                              0.0   \n",
       "\n",
       "   cat__Identification.Make_Suzuki  cat__Identification.Make_Toyota  \\\n",
       "0                              0.0                              0.0   \n",
       "1                              0.0                              0.0   \n",
       "2                              0.0                              0.0   \n",
       "3                              0.0                              0.0   \n",
       "4                              0.0                              0.0   \n",
       "\n",
       "   cat__Identification.Make_Volkswagen  cat__Identification.Make_Volvo  \n",
       "0                                  0.0                             0.0  \n",
       "1                                  0.0                             0.0  \n",
       "2                                  0.0                             0.0  \n",
       "3                                  0.0                             0.0  \n",
       "4                                  0.0                             0.0  \n",
       "\n",
       "[5 rows x 66 columns]"
      ]
     },
     "execution_count": 22,
     "metadata": {},
     "output_type": "execute_result"
    }
   ],
   "source": [
    "pd.DataFrame.sparse.from_spmatrix(cars_prepared, columns=full_pipeline.get_feature_names_out()).head()"
   ]
  },
  {
   "cell_type": "markdown",
   "id": "454447e6",
   "metadata": {},
   "source": [
    "### Probando algunos modelos"
   ]
  },
  {
   "cell_type": "markdown",
   "id": "e95a1510",
   "metadata": {},
   "source": [
    "#### Regresion Lineal"
   ]
  },
  {
   "cell_type": "code",
   "execution_count": 23,
   "id": "553604f4",
   "metadata": {
    "scrolled": true
   },
   "outputs": [
    {
     "name": "stdout",
     "output_type": "stream",
     "text": [
      " Predictions:  [12.41099115 16.31860215 14.67162921 14.45756517 15.15545664]\n",
      " Labels:  [13, 16, 15, 12, 16]\n"
     ]
    }
   ],
   "source": [
    "from sklearn.linear_model import LinearRegression\n",
    "from sklearn. metrics import mean_squared_error\n",
    "\n",
    "lin_reg = LinearRegression()\n",
    "lin_reg.fit(cars_prepared, cars_labels)\n",
    "\n",
    "some_data = cars.iloc[:5]\n",
    "some_labels = cars_labels.iloc[:5]\n",
    "some_data_prepared = full_pipeline.transform(some_data)\n",
    "\n",
    "print( \" Predictions: \" , lin_reg.predict(some_data_prepared) )\n",
    "print( \" Labels: \" , list( some_labels) )"
   ]
  },
  {
   "cell_type": "markdown",
   "id": "01ae5096",
   "metadata": {},
   "source": [
    "#### Arbol de desicion"
   ]
  },
  {
   "cell_type": "code",
   "execution_count": 24,
   "id": "a121724e",
   "metadata": {},
   "outputs": [
    {
     "name": "stdout",
     "output_type": "stream",
     "text": [
      " Predictions:  [13. 16. 15. 12. 16.]\n",
      " Labels:  [13, 16, 15, 12, 16]\n"
     ]
    }
   ],
   "source": [
    "from sklearn.tree import DecisionTreeRegressor\n",
    "\n",
    "tree_reg = DecisionTreeRegressor()\n",
    "tree_reg.fit(cars_prepared, cars_labels)\n",
    "\n",
    "print( \" Predictions: \" , tree_reg.predict(some_data_prepared) )\n",
    "print( \" Labels: \" , list( some_labels) )"
   ]
  },
  {
   "cell_type": "markdown",
   "id": "5c9bdd4e",
   "metadata": {},
   "source": [
    "#### Bosques Aleatorios"
   ]
  },
  {
   "cell_type": "code",
   "execution_count": 25,
   "id": "7e820a6a",
   "metadata": {},
   "outputs": [
    {
     "name": "stdout",
     "output_type": "stream",
     "text": [
      " Predictions:  [13.   16.07 15.   12.57 16.02]\n",
      " Labels:  [13, 16, 15, 12, 16]\n"
     ]
    }
   ],
   "source": [
    "from sklearn.ensemble import RandomForestRegressor\n",
    "\n",
    "fores_reg = RandomForestRegressor()\n",
    "fores_reg.fit(cars_prepared, cars_labels)\n",
    "\n",
    "print( \" Predictions: \" , fores_reg.predict(some_data_prepared) )\n",
    "print( \" Labels: \" , list( some_labels) )"
   ]
  },
  {
   "cell_type": "markdown",
   "id": "f5a1d90b",
   "metadata": {},
   "source": [
    "### Evaluando modelos con cross_validatoin"
   ]
  },
  {
   "cell_type": "code",
   "execution_count": 26,
   "id": "b5572b56",
   "metadata": {},
   "outputs": [],
   "source": [
    "def display_scores(scores) :\n",
    "    print( \" Scores: \" , scores)\n",
    "    print( \" Mean: \" , scores.mean( ) )\n",
    "    print( \" Standard deviation: \" , scores.std( ) )"
   ]
  },
  {
   "cell_type": "code",
   "execution_count": 27,
   "id": "14753fe4",
   "metadata": {},
   "outputs": [
    {
     "name": "stdout",
     "output_type": "stream",
     "text": [
      "\n",
      "Regresion Lineal\n",
      " Scores:  [1.81200094 1.79898648 2.02053238 1.82816234 1.72515897 1.78986672\n",
      " 1.76002549 1.84155838 1.98055218 1.73093696]\n",
      " Mean:  1.8287780835114673\n",
      " Standard deviation:  0.09364220888214207\n",
      "\n",
      " Arbol de desicion\n",
      " Scores:  [0.48559152 0.67194391 0.84557673 0.76408728 0.73695553 1.16093478\n",
      " 0.62190669 0.44958246 0.69076865 0.68151065]\n",
      " Mean:  0.7108858180330436\n",
      " Standard deviation:  0.1881313537522288\n",
      "\n",
      " Bosques Aleatorios\n",
      " Scores:  [0.45928494 0.54536493 0.75581065 0.56095469 0.56225267 1.03032768\n",
      " 0.54042817 0.44949746 0.58288717 0.4681209 ]\n",
      " Mean:  0.5954929265393711\n",
      " Standard deviation:  0.16699569344595422\n"
     ]
    }
   ],
   "source": [
    "from sklearn.model_selection import cross_val_score\n",
    "\n",
    "lin_reg_scores = cross_val_score(lin_reg, cars_prepared, cars_labels, scoring='neg_mean_squared_error', cv=10)\n",
    "lin_reg_scores = np.sqrt(-lin_reg_scores)\n",
    "\n",
    "tree_reg_scores = cross_val_score(tree_reg, cars_prepared, cars_labels, scoring='neg_mean_squared_error', cv=10)\n",
    "tree_reg_scores = np.sqrt(-tree_reg_scores)\n",
    "\n",
    "fores_reg_scores = cross_val_score(fores_reg, cars_prepared, cars_labels, scoring='neg_mean_squared_error', cv=10)\n",
    "fores_reg_scores = np.sqrt(-fores_reg_scores)\n",
    "\n",
    "print(\"\\nRegresion Lineal\")\n",
    "display_scores(lin_reg_scores)\n",
    "\n",
    "print(\"\\n Arbol de desicion\")\n",
    "display_scores(tree_reg_scores)\n",
    "\n",
    "print(\"\\n Bosques Aleatorios\")\n",
    "display_scores(fores_reg_scores)"
   ]
  },
  {
   "cell_type": "markdown",
   "id": "e7c74399",
   "metadata": {},
   "source": [
    "### Tuneando los Hiperparametros\n",
    "\n",
    "Por ahora el mejor modelo es el de Bosques Aleatorios, se pudiera mejorar su presicion con tuneo de hiperparametros\n",
    "\n",
    "Habra un numero de combinaciones de parametros 3 x 4 = 12 veces, luego 4 x 3 = 12 veces : 12 + 12 = 24\n",
    "Y por cada combinacion se usara cross_validation 5 veces lo que deja un total de 24 x 5 = 120 de modelos entrenados"
   ]
  },
  {
   "cell_type": "code",
   "execution_count": 28,
   "id": "3e4e35ee",
   "metadata": {},
   "outputs": [
    {
     "data": {
      "text/plain": [
       "{'bootstrap': False, 'max_features': 16, 'n_estimators': 60}"
      ]
     },
     "execution_count": 28,
     "metadata": {},
     "output_type": "execute_result"
    }
   ],
   "source": [
    "from sklearn.model_selection import GridSearchCV\n",
    "\n",
    "param_grid = [\n",
    "    {'n_estimators' : [30, 40, 50] , 'max_features' : [8, 12, 16, 20] },\n",
    "    {'bootstrap' : [False] , 'n_estimators' :  [30, 40, 50, 60] , 'max_features' : [16, 20, 24] },\n",
    "]\n",
    "\n",
    "fores_reg = RandomForestRegressor(random_state=0)\n",
    "\n",
    "grid_search = GridSearchCV(fores_reg, param_grid, cv=5, scoring='neg_mean_squared_error' , return_train_score=True)\n",
    "grid_search.fit(cars_prepared, cars_labels)\n",
    "\n",
    "grid_search.best_params_"
   ]
  },
  {
   "cell_type": "markdown",
   "id": "4d87f423",
   "metadata": {},
   "source": [
    "### Obtener el mejor estimador de la prueba"
   ]
  },
  {
   "cell_type": "code",
   "execution_count": 29,
   "id": "47f32974",
   "metadata": {},
   "outputs": [
    {
     "name": "stdout",
     "output_type": "stream",
     "text": [
      "\n",
      " Modelo Final\n",
      " Scores:  [0.41419239 0.4767657  0.71630502 0.63619963 0.41749809 0.88623787\n",
      " 0.44513635 0.34573589 0.53885242 0.39791226]\n",
      " Mean:  0.5274835617439408\n",
      " Standard deviation:  0.16137305654579004\n"
     ]
    }
   ],
   "source": [
    "final_model = grid_search.best_estimator_\n",
    "\n",
    "final_model_scores = cross_val_score(final_model, cars_prepared, cars_labels, scoring='neg_mean_squared_error', cv=10)\n",
    "final_model_scores = np.sqrt(-final_model_scores)\n",
    "\n",
    "print(\"\\n Modelo Final\")\n",
    "display_scores(final_model_scores)"
   ]
  },
  {
   "cell_type": "markdown",
   "id": "9020a346",
   "metadata": {},
   "source": [
    "### Validando con datos de Pruebas\n",
    "Estos datos nunca han sido suministrados al modelo."
   ]
  },
  {
   "cell_type": "code",
   "execution_count": 30,
   "id": "ad30eff6",
   "metadata": {},
   "outputs": [
    {
     "name": "stdout",
     "output_type": "stream",
     "text": [
      "0.5859945073123535\n"
     ]
    }
   ],
   "source": [
    "y_test = strat_test_set['Fuel Information.City mpg'].copy()\n",
    "X_test = strat_test_set.drop('Fuel Information.City mpg', axis=1)\n",
    "\n",
    "\n",
    "X_test_prepared = full_pipeline.transform(X_test)\n",
    "final_predictions = final_model.predict(X_test_prepared)\n",
    "\n",
    "final_mse = mean_squared_error(y_test, final_predictions)\n",
    "final_rmse = np.sqrt(final_mse)\n",
    "print(final_rmse)"
   ]
  },
  {
   "cell_type": "markdown",
   "id": "ed0fb76c",
   "metadata": {},
   "source": [
    "### Hacer Prediccion de valor insertado por algun usuario"
   ]
  },
  {
   "cell_type": "markdown",
   "id": "b8420de0",
   "metadata": {},
   "source": [
    "#### Datos de la primera fila del dataset"
   ]
  },
  {
   "cell_type": "code",
   "execution_count": 31,
   "id": "ef435362",
   "metadata": {
    "scrolled": false
   },
   "outputs": [
    {
     "name": "stdout",
     "output_type": "stream",
     "text": [
      "Prediccion:  [18.]\n",
      "valor Real:  18\n"
     ]
    }
   ],
   "source": [
    "input_data = pd.DataFrame([[140, 143, 202, \"All-wheel drive\", 6.0 , 1, 6, \"Gasoline\", \"Automatic transmission\", \"Audi\", 2009, 250, 236]], columns=cars.columns)\n",
    "input_data_prepared = full_pipeline.transform(input_data)\n",
    "\n",
    "print(\"Prediccion: \", final_model.predict(input_data_prepared))\n",
    "print(\"valor Real: \", df['Fuel Information.City mpg'][0])"
   ]
  },
  {
   "cell_type": "markdown",
   "id": "bfcd0d14",
   "metadata": {},
   "source": [
    "#### Datos de prueba"
   ]
  },
  {
   "cell_type": "code",
   "execution_count": 32,
   "id": "c0ff7366",
   "metadata": {},
   "outputs": [
    {
     "name": "stdout",
     "output_type": "stream",
     "text": [
      "Prediccion:  [16.09583333]\n"
     ]
    }
   ],
   "source": [
    "input_data = pd.DataFrame([[160, 190, 182, \"Front-wheel drive\", 6.0 , 1, 6, \"Diesel fuel\", \"Automatic transmission\", \"Ford\", 2011, 400, 236]], columns=cars.columns)\n",
    "input_data_prepared = full_pipeline.transform(input_data)\n",
    "\n",
    "print(\"Prediccion: \", final_model.predict(input_data_prepared))"
   ]
  },
  {
   "cell_type": "markdown",
   "id": "99089107",
   "metadata": {},
   "source": [
    "### Conclusion\n",
    "- El modelo seleccionado fue **RandomForest** con los hiperparametros `{'bootstrap': False, 'max_features': 16, 'n_estimators': 60}`\n",
    "- El rango de la cantidad de millas por galon oscila es `[8-38] mpg`\n",
    "- El modelo permite calcular la cantidad de millas por galon de combustible que hace un auto determinado en un ambiente urbano con una exactitud de `+- 0.58 mpg`\n",
    "- Como es de imaginar **mientras más** caballos de potencia, numero de cilindros tenga el auto, mayor torque del motor e incluso numero de ruedas que el diferencial mueve **disminuye** la cantidad de millas por galon de autonomia"
   ]
  }
 ],
 "metadata": {
  "kernelspec": {
   "display_name": "Python 3 (ipykernel)",
   "language": "python",
   "name": "python3"
  },
  "language_info": {
   "codemirror_mode": {
    "name": "ipython",
    "version": 3
   },
   "file_extension": ".py",
   "mimetype": "text/x-python",
   "name": "python",
   "nbconvert_exporter": "python",
   "pygments_lexer": "ipython3",
   "version": "3.9.12"
  }
 },
 "nbformat": 4,
 "nbformat_minor": 5
}
